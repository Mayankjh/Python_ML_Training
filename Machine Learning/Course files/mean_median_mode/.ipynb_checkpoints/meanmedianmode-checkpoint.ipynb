{
 "cells": [
  {
   "cell_type": "markdown",
   "metadata": {
    "deletable": true,
    "editable": true
   },
   "source": [
    "# Mean, Median, Mode, and introducing NumPy"
   ]
  },
  {
   "cell_type": "markdown",
   "metadata": {
    "deletable": true,
    "editable": true
   },
   "source": [
    "## Mean vs. Median"
   ]
  },
  {
   "cell_type": "markdown",
   "metadata": {
    "deletable": true,
    "editable": true
   },
   "source": [
    "Let's create some fake income data, centered around 27,000 with a normal distribution and standard deviation of 15,000, with 10,000 data points. (We'll discuss those terms more later, if you're not familiar with them.)\n",
    "\n",
    "Then, compute the mean (average) - it should be close to 27,000:"
   ]
  },
  {
   "cell_type": "code",
   "execution_count": 4,
   "metadata": {
    "collapsed": false,
    "deletable": true,
    "editable": true
   },
   "outputs": [
    {
     "data": {
      "text/plain": [
       "27279.24567975719"
      ]
     },
     "execution_count": 4,
     "metadata": {},
     "output_type": "execute_result"
    }
   ],
   "source": [
    "import numpy as np\n",
    "\n",
    "incomes = np.random.normal(27000, 15000, 10000)\n",
    "print(incomes)\n",
    "\n",
    "np.mean(incomes)\n",
    "\n"
   ]
  },
  {
   "cell_type": "markdown",
   "metadata": {
    "deletable": true,
    "editable": true
   },
   "source": [
    "We can segment the income data into 50 buckets, and plot it as a histogram:"
   ]
  },
  {
   "cell_type": "code",
   "execution_count": 2,
   "metadata": {
    "collapsed": false,
    "deletable": true,
    "editable": true
   },
   "outputs": [
    {
     "data": {
      "image/png": "[encoded data removed]",
      "text/plain": [
       "<matplotlib.figure.Figure at 0x7ea1e48>"
      ]
     },
     "metadata": {},
     "output_type": "display_data"
    }
   ],
   "source": [
    "%matplotlib inline\n",
    "import matplotlib.pyplot as plt\n",
    "plt.hist(incomes, 50)\n",
    "plt.show()"
   ]
  },
  {
   "cell_type": "markdown",
   "metadata": {
    "deletable": true,
    "editable": true
   },
   "source": [
    "Now compute the median - since we have a nice, even distribution it too should be close to 27,000:"
   ]
  },
  {
   "cell_type": "code",
   "execution_count": 3,
   "metadata": {
    "collapsed": false,
    "deletable": true,
    "editable": true
   },
   "outputs": [
    {
     "data": {
      "text/plain": [
       "27195.153719614136"
      ]
     },
     "execution_count": 3,
     "metadata": {},
     "output_type": "execute_result"
    }
   ],
   "source": [
    "np.median(incomes)"
   ]
  },
  {
   "cell_type": "markdown",
   "metadata": {
    "deletable": true,
    "editable": true
   },
   "source": [
    "Now we'll add Donald Trump into the mix. Darn income inequality!"
   ]
  },
  {
   "cell_type": "code",
   "execution_count": 18,
   "metadata": {
    "collapsed": false,
    "deletable": true,
    "editable": true
   },
   "outputs": [
    {
     "name": "stdout",
     "output_type": "stream",
     "text": [
      "10002\n"
     ]
    }
   ],
   "source": [
    "incomes = np.append(incomes, [1000000000])\n",
    "\n"
   ]
  },
  {
   "cell_type": "markdown",
   "metadata": {
    "deletable": true,
    "editable": true
   },
   "source": [
    "The median won't change much, but the mean does:"
   ]
  },
  {
   "cell_type": "code",
   "execution_count": 17,
   "metadata": {
    "collapsed": false,
    "deletable": true,
    "editable": true
   },
   "outputs": [
    {
     "data": {
      "text/plain": [
       "27169.406119981159"
      ]
     },
     "execution_count": 17,
     "metadata": {},
     "output_type": "execute_result"
    }
   ],
   "source": [
    "np.median(incomes)"
   ]
  },
  {
   "cell_type": "code",
   "execution_count": 6,
   "metadata": {
    "collapsed": false,
    "deletable": true,
    "editable": true
   },
   "outputs": [
    {
     "data": {
      "text/plain": [
       "126993.93098257863"
      ]
     },
     "execution_count": 6,
     "metadata": {},
     "output_type": "execute_result"
    }
   ],
   "source": [
    "np.mean(incomes)"
   ]
  },
  {
   "cell_type": "markdown",
   "metadata": {
    "deletable": true,
    "editable": true
   },
   "source": [
    "## Mode"
   ]
  },
  {
   "cell_type": "markdown",
   "metadata": {
    "deletable": true,
    "editable": true
   },
   "source": [
    "Next, let's generate some fake age data for 500 people:"
   ]
  },
  {
   "cell_type": "code",
   "execution_count": 21,
   "metadata": {
    "collapsed": false,
    "deletable": true,
    "editable": true
   },
   "outputs": [
    {
     "data": {
      "text/plain": [
       "array([42, 63, 59, 63, 41, 19, 21, 73, 52, 27, 67, 42, 38, 43, 36, 46, 39,\n",
       "       84, 54, 81, 39, 56, 35, 33, 88, 72, 27, 50, 53, 72, 19, 68, 55, 64,\n",
       "       60, 31, 36, 21, 80, 50, 45, 28, 34, 51, 54, 50, 71, 26, 45, 70, 33,\n",
       "       61, 59, 62, 80, 51, 39, 46, 57, 51, 85, 70, 26, 19, 48, 68, 64, 20,\n",
       "       18, 83, 25, 52, 28, 74, 86, 28, 83, 18, 88, 40, 64, 32, 20, 66, 89,\n",
       "       44, 42, 74, 34, 79, 31, 79, 28, 48, 30, 86, 83, 24, 60, 72, 72, 50,\n",
       "       18, 41, 27, 62, 33, 37, 22, 55, 26, 86, 33, 26, 22, 28, 87, 66, 52,\n",
       "       83, 60, 39, 57, 28, 51, 73, 25, 83, 66, 23, 79, 84, 36, 75, 59, 65,\n",
       "       53, 32, 72, 70, 73, 78, 50, 59, 39, 47, 67, 50, 60, 25, 55, 81, 38,\n",
       "       19, 74, 42, 29, 75, 67, 67, 56, 23, 58, 71, 52, 60, 21, 20, 78, 32,\n",
       "       34, 79, 40, 78, 59, 46, 63, 44, 85, 19, 41, 60, 81, 48, 72, 78, 25,\n",
       "       44, 21, 50, 28, 28, 81, 18, 40, 44, 46, 86, 23, 30, 75, 57, 22, 82,\n",
       "       41, 21, 65, 58, 67, 67, 70, 66, 49, 31, 78, 57, 42, 42, 27, 49, 75,\n",
       "       68, 89, 36, 87, 61, 74, 24, 54, 63, 25, 19, 86, 34, 65, 34, 72, 41,\n",
       "       81, 68, 27, 52, 33, 18, 59, 34, 75, 45, 72, 73, 52, 37, 76, 49, 39,\n",
       "       69, 47, 53, 38, 58, 73, 48, 29, 42, 84, 47, 26, 80, 64, 20, 28, 62,\n",
       "       50, 41, 70, 64, 83, 69, 28, 57, 71, 25, 70, 63, 25, 87, 83, 45, 64,\n",
       "       27, 56, 37, 46, 52, 82, 25, 35, 33, 85, 20, 64, 40, 78, 35, 70, 46,\n",
       "       66, 78, 34, 44, 70, 35, 31, 44, 19, 21, 64, 70, 57, 20, 40, 77, 40,\n",
       "       68, 24, 35, 37, 34, 89, 25, 64, 32, 68, 49, 80, 82, 28, 30, 82, 65,\n",
       "       49, 66, 49, 48, 60, 87, 31, 72, 71, 57, 85, 45, 77, 28, 69, 31, 30,\n",
       "       60, 85, 39, 63, 31, 37, 86, 21, 68, 18, 75, 26, 86, 85, 80, 36, 38,\n",
       "       70, 83, 63, 75, 71, 47, 70, 82, 86, 54, 67, 82, 54, 70, 69, 53, 41,\n",
       "       43, 40, 81, 67, 46, 86, 63, 46, 65, 34, 22, 71, 53, 20, 51, 26, 25,\n",
       "       61, 65, 22, 31, 65, 50, 81, 40, 67, 35, 56, 64, 58, 24, 44, 51, 66,\n",
       "       23, 83, 87, 25, 60, 28, 61, 53, 53, 71, 60, 82, 56, 70, 55, 49, 73,\n",
       "       22, 89, 88, 25, 86, 39, 39, 79, 30, 60, 35, 70, 67, 72, 18, 48, 72,\n",
       "       67, 68, 48, 86, 74, 46, 22, 57, 52, 69, 52, 86, 68, 83, 27, 23, 55,\n",
       "       38, 36, 36, 29, 18, 71, 81, 40, 42, 23, 55, 78, 26, 38, 30, 45, 25,\n",
       "       42, 88, 56, 68, 27, 66, 41])"
      ]
     },
     "execution_count": 21,
     "metadata": {},
     "output_type": "execute_result"
    }
   ],
   "source": [
    "ages = np.random.randint(18, high=90, size=500)\n",
    "ages"
   ]
  },
  {
   "cell_type": "code",
   "execution_count": 22,
   "metadata": {
    "collapsed": false,
    "deletable": true,
    "editable": true
   },
   "outputs": [
    {
     "data": {
      "text/plain": [
       "ModeResult(mode=array([70]), count=array([14]))"
      ]
     },
     "execution_count": 22,
     "metadata": {},
     "output_type": "execute_result"
    }
   ],
   "source": [
    "from scipy import stats\n",
    "stats.mode(ages)"
   ]
  },
  {
   "cell_type": "code",
   "execution_count": null,
   "metadata": {
    "collapsed": false,
    "deletable": true,
    "editable": true
   },
   "outputs": [],
   "source": []
  }
 ],
 "metadata": {
  "kernelspec": {
   "display_name": "Python 3",
   "language": "python",
   "name": "python3"
  },
  "language_info": {
   "codemirror_mode": {
    "name": "ipython",
    "version": 3
   },
   "file_extension": ".py",
   "mimetype": "text/x-python",
   "name": "python",
   "nbconvert_exporter": "python",
   "pygments_lexer": "ipython3",
   "version": "3.5.2"
  }
 },
 "nbformat": 4,
 "nbformat_minor": 0
}
