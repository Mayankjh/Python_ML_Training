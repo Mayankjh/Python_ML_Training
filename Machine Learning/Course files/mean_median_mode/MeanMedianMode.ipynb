{
 "cells": [
  {
   "cell_type": "markdown",
   "metadata": {
    "deletable": true,
    "editable": true
   },
   "source": [
    "# Mean, Median, Mode, and introducing NumPy"
   ]
  },
  {
   "cell_type": "markdown",
   "metadata": {
    "deletable": true,
    "editable": true
   },
   "source": [
    "## Mean vs. Median"
   ]
  },
  {
   "cell_type": "markdown",
   "metadata": {
    "deletable": true,
    "editable": true
   },
   "source": [
    "Let's create some fake income data, centered around 27,000 with a normal distribution and standard deviation of 15,000, with 10,000 data points. (We'll discuss those terms more later, if you're not familiar with them.)\n",
    "\n",
    "Then, compute the mean (average) - it should be close to 27,000:"
   ]
  },
  {
   "cell_type": "code",
   "execution_count": 11,
   "metadata": {
    "collapsed": false,
    "deletable": true,
    "editable": true
   },
   "outputs": [
    {
     "name": "stdout",
     "output_type": "stream",
     "text": [
      "[ 8619.81612548  5920.07345543 26983.92373813 ...  8106.56482905\n",
      " 49970.70844095 31989.46931024]\n"
     ]
    },
    {
     "data": {
      "text/plain": [
       "26903.231823171747"
      ]
     },
     "execution_count": 11,
     "metadata": {},
     "output_type": "execute_result"
    }
   ],
   "source": [
    "import numpy as np\n",
    "\n",
    "incomes = np.random.normal(27000, 15000, 10000)\n",
    "print(incomes)\n",
    "\n",
    "np.mean(incomes)\n",
    "\n"
   ]
  },
  {
   "cell_type": "markdown",
   "metadata": {
    "deletable": true,
    "editable": true
   },
   "source": [
    "We can segment the income data into 50 buckets, and plot it as a histogram:"
   ]
  },
  {
   "cell_type": "code",
   "execution_count": 12,
   "metadata": {
    "collapsed": false,
    "deletable": true,
    "editable": true
   },
   "outputs": [
    {
     "data": {
      "image/png": "[encoded data removed]",
      "text/plain": [
       "<matplotlib.figure.Figure at 0xe0c4208>"
      ]
     },
     "metadata": {},
     "output_type": "display_data"
    }
   ],
   "source": [
    "%matplotlib inline\n",
    "import matplotlib.pyplot as plt\n",
    "plt.hist(incomes, 50)\n",
    "plt.show()"
   ]
  },
  {
   "cell_type": "markdown",
   "metadata": {
    "deletable": true,
    "editable": true
   },
   "source": [
    "Now compute the median - since we have a nice, even distribution it too should be close to 27,000:"
   ]
  },
  {
   "cell_type": "code",
   "execution_count": 18,
   "metadata": {
    "collapsed": false,
    "deletable": true,
    "editable": true
   },
   "outputs": [
    {
     "name": "stdout",
     "output_type": "stream",
     "text": [
      "26989.72733416497\n",
      "26903.231823171747\n"
     ]
    }
   ],
   "source": [
    "print(np.median(incomes))\n",
    "\n",
    "print(np.mean(incomes))"
   ]
  },
  {
   "cell_type": "markdown",
   "metadata": {
    "deletable": true,
    "editable": true
   },
   "source": [
    "Now we'll add Donald Trump into the mix. Darn income inequality!"
   ]
  },
  {
   "cell_type": "code",
   "execution_count": 23,
   "metadata": {
    "collapsed": false,
    "deletable": true,
    "editable": true
   },
   "outputs": [
    {
     "data": {
      "text/plain": [
       "10003"
      ]
     },
     "execution_count": 23,
     "metadata": {},
     "output_type": "execute_result"
    }
   ],
   "source": [
    "incomes = np.append(incomes, [1000,1000,1000])\n",
    "len(incomes)\n",
    "\n"
   ]
  },
  {
   "cell_type": "markdown",
   "metadata": {
    "deletable": true,
    "editable": true
   },
   "source": [
    "The median won't change much, but the mean does:"
   ]
  },
  {
   "cell_type": "code",
   "execution_count": 24,
   "metadata": {
    "collapsed": false,
    "deletable": true,
    "editable": true
   },
   "outputs": [
    {
     "data": {
      "text/plain": [
       "26983.92373813441"
      ]
     },
     "execution_count": 24,
     "metadata": {},
     "output_type": "execute_result"
    }
   ],
   "source": [
    "np.median(incomes)"
   ]
  },
  {
   "cell_type": "code",
   "execution_count": 25,
   "metadata": {
    "collapsed": false,
    "deletable": true,
    "editable": true
   },
   "outputs": [
    {
     "data": {
      "text/plain": [
       "26895.46318421648"
      ]
     },
     "execution_count": 25,
     "metadata": {},
     "output_type": "execute_result"
    }
   ],
   "source": [
    "np.mean(incomes)"
   ]
  },
  {
   "cell_type": "markdown",
   "metadata": {
    "deletable": true,
    "editable": true
   },
   "source": [
    "## Mode"
   ]
  },
  {
   "cell_type": "markdown",
   "metadata": {
    "deletable": true,
    "editable": true
   },
   "source": [
    "Next, let's generate some fake age data for 500 people:"
   ]
  },
  {
   "cell_type": "code",
   "execution_count": 27,
   "metadata": {
    "collapsed": false,
    "deletable": true,
    "editable": true
   },
   "outputs": [
    {
     "data": {
      "text/plain": [
       "array([79, 58, 45, 30, 43, 31, 83, 27, 80, 79, 83, 41, 50, 25, 28, 21, 46,\n",
       "       29, 71, 67, 75, 79, 36, 87, 39, 58, 49, 43, 71, 60, 18, 85, 59, 37,\n",
       "       49, 63, 83, 58, 54, 71, 69, 53, 63, 62, 38, 46, 25, 70, 59, 30, 62,\n",
       "       44, 71, 37, 76, 72, 61, 63, 47, 71, 42, 60, 77, 82, 36, 89, 53, 24,\n",
       "       65, 75, 34, 35, 71, 79, 39, 69, 24, 56, 84, 41, 50, 32, 40, 66, 39,\n",
       "       56, 37, 43, 18, 68, 77, 24, 89, 41, 26, 27, 77, 68, 63, 39, 46, 52,\n",
       "       37, 30, 37, 25, 78, 64, 45, 55, 35, 64, 43, 33, 50, 55, 82, 65, 82,\n",
       "       86, 54, 86, 21, 45, 81, 72, 42, 22, 75, 51, 74, 31, 57, 89, 22, 46,\n",
       "       57, 41, 89, 45, 84, 54, 33, 55, 79, 69, 35, 85, 32, 66, 87, 38, 41,\n",
       "       84, 84, 44, 76, 50, 21, 26, 61, 26, 61, 37, 61, 39, 46, 45, 47, 74,\n",
       "       54, 83, 47, 70, 24, 47, 79, 58, 72, 60, 63, 80, 54, 53, 28, 82, 83,\n",
       "       74, 53, 87, 52, 50, 64, 55, 25, 66, 85, 81, 60, 69, 41, 59, 72, 23,\n",
       "       18, 18, 68, 86, 67, 29, 46, 70, 68, 83, 26, 66, 82, 25, 28, 23, 88,\n",
       "       26, 71, 63, 43, 46, 79, 22, 34, 84, 67, 76, 19, 73, 19, 68, 76, 79,\n",
       "       30, 19, 76, 89, 30, 81, 32, 23, 82, 65, 22, 68, 48, 35, 71, 75, 77,\n",
       "       70, 71, 43, 77, 40, 75, 44, 68, 30, 78, 36, 59, 42, 30, 30, 22, 40,\n",
       "       61, 73, 37, 37, 77, 30, 26, 56, 32, 39, 21, 53, 60, 72, 19, 83, 64,\n",
       "       43, 48, 85, 28, 88, 18, 41, 68, 56, 33, 62, 29, 57, 85, 57, 53, 22,\n",
       "       75, 58, 58, 60, 25, 28, 47, 29, 36, 88, 69, 18, 31, 18, 88, 37, 27,\n",
       "       84, 54, 21, 75, 46, 70, 56, 53, 36, 86, 33, 41, 35, 86, 82, 19, 32,\n",
       "       39, 56, 49, 70, 89, 51, 70, 57, 86, 45, 89, 35, 24, 61, 30, 28, 73,\n",
       "       28, 45, 88, 86, 81, 67, 44, 22, 41, 78, 45, 38, 70, 61, 28, 18, 71,\n",
       "       78, 28, 48, 30, 79, 43, 26, 85, 68, 19, 69, 54, 49, 45, 35, 46, 25,\n",
       "       55, 58, 79, 83, 65, 63, 56, 29, 34, 40, 53, 37, 43, 68, 84, 88, 78,\n",
       "       88, 55, 50, 24, 69, 61, 41, 32, 43, 24, 79, 25, 24, 66, 45, 25, 25,\n",
       "       38, 20, 82, 49, 75, 19, 81, 54, 41, 73, 84, 74, 42, 85, 74, 68, 75,\n",
       "       32, 60, 50, 84, 26, 37, 34, 74, 28, 26, 76, 78, 68, 62, 28, 85, 81,\n",
       "       76, 41, 57, 87, 39, 53, 32, 56, 31, 55, 87, 22, 20, 43, 31, 44, 86,\n",
       "       83, 35, 88, 40, 57, 65, 62, 83, 23, 27, 87, 32, 85, 27, 80, 46, 35,\n",
       "       25, 53, 86, 46, 81, 56, 38])"
      ]
     },
     "execution_count": 27,
     "metadata": {},
     "output_type": "execute_result"
    }
   ],
   "source": [
    "ages = np.random.randint(18, high=90, size=500)\n",
    "ages"
   ]
  },
  {
   "cell_type": "code",
   "execution_count": 24,
   "metadata": {
    "collapsed": false,
    "deletable": true,
    "editable": true
   },
   "outputs": [
    {
     "data": {
      "text/plain": [
       "ModeResult(mode=array([85]), count=array([18]))"
      ]
     },
     "execution_count": 24,
     "metadata": {},
     "output_type": "execute_result"
    }
   ],
   "source": [
    "from scipy import stats\n",
    "stats.mode(ages)"
   ]
  },
  {
   "cell_type": "code",
   "execution_count": null,
   "metadata": {
    "collapsed": false,
    "deletable": true,
    "editable": true
   },
   "outputs": [],
   "source": []
  }
 ],
 "metadata": {
  "kernelspec": {
   "display_name": "Python 3",
   "language": "python",
   "name": "python3"
  },
  "language_info": {
   "codemirror_mode": {
    "name": "ipython",
    "version": 3
   },
   "file_extension": ".py",
   "mimetype": "text/x-python",
   "name": "python",
   "nbconvert_exporter": "python",
   "pygments_lexer": "ipython3",
   "version": "3.5.2"
  }
 },
 "nbformat": 4,
 "nbformat_minor": 0
}
